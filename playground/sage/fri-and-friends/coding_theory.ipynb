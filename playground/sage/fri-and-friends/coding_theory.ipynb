{
 "cells": [
  {
   "cell_type": "code",
   "execution_count": 3,
   "metadata": {
    "vscode": {
     "languageId": "python"
    }
   },
   "outputs": [],
   "source": [
    "from sage.coding.all import *\n",
    "from sage.coding.grs_code import ReedSolomonCode\n",
    "from sage.coding.guruswami_sudan.gs_decoder import GRSGuruswamiSudanDecoder\n",
    "from sage.rings.polynomial.all import *\n",
    "from sage.rings.finite_rings.all import *\n",
    "from sage.modules.free_module import VectorSpace\n",
    "from sage.matrix.all import *\n",
    "from sage.misc.functional import sqrt\n",
    "from sage.functions.other import floor\n",
    "from copy import deepcopy\n",
    "from sage.misc.prandom import random"
   ]
  },
  {
   "cell_type": "code",
   "execution_count": null,
   "metadata": {
    "vscode": {
     "languageId": "python"
    }
   },
   "outputs": [
    {
     "name": "stdout",
     "output_type": "stream",
     "text": [
      "Minimum Distance: 769\n",
      "Dimension: 256\n",
      "Rate: 1/4\n"
     ]
    }
   ],
   "source": [
    "P = 15*(2**27) + 1\n",
    "Fq = GF(P);\n",
    "R = PolynomialRing(Fq, \"X\");\n",
    "X = R.gen()\n",
    "\n",
    "π = Fq.multiplicative_generator() # Multiplicative Generator 31\n",
    "\n",
    "omega = π**(15*2**(27 - 10));\n",
    "omega_order = omega.multiplicative_order()\n",
    "\n",
    "k = omega_order // 4\n",
    "\n",
    "RS = ReedSolomonCode(Fq, omega_order, k, primitive_root=omega)\n",
    "evaluation_points = RS.evaluation_points(); # print(f\"Evaluation points: {evaluation_points}\")\n",
    "minimum_distance = RS.minimum_distance(); print(f\"Minimum Distance: {minimum_distance}\")\n",
    "dimension = RS.dimension(); print(f\"Dimension: {dimension}\")\n",
    "rate = RS.rate(); print(f\"Rate: {rate}\")\n",
    "E = RS.encoder(\"EvaluationPolynomial\", polynomial_ring=R)"
   ]
  },
  {
   "cell_type": "code",
   "execution_count": 5,
   "metadata": {
    "vscode": {
     "languageId": "python"
    }
   },
   "outputs": [],
   "source": [
    "def enumerate_points_in_radius(base_point, hamming_distance):\n",
    "    from itertools import combinations\n",
    "    base_len = len(base_point)\n",
    "    result = list()\n",
    "    for r in range(hamming_distance):\n",
    "        for entries in combinations(range(base_len), r+1):\n",
    "            value = list(base_point)\n",
    "            for j in entries:\n",
    "                value[j] = 0\n",
    "            result.append(value)\n",
    "    return result"
   ]
  },
  {
   "cell_type": "code",
   "execution_count": 6,
   "metadata": {
    "vscode": {
     "languageId": "python"
    }
   },
   "outputs": [],
   "source": [
    "def berlekamp_welch(code : ReedSolomonCode, received_vector : VectorSpace):\n",
    "    n = code.length()\n",
    "    dim = code.dimension()\n",
    "    d = code.minimum_distance()\n",
    "    field = code.base_ring()\n",
    "    eval_points = code.evaluation_points()\n",
    "    correctable = d // 2\n",
    "\n",
    "    if len(received_vector) != n:\n",
    "        raise ValueError(f\"Invalid received vector\")\n",
    "    \n",
    "    row_entry = lambda eval_point, y_val : [ eval_point**i for i in range(dim+correctable)] + [field(-1)*y_val*(eval_point**i) for i in range(correctable)]\n",
    "\n",
    "    m = Matrix(field, [ row_entry(x,y) for (x,y) in zip(eval_points, received_vector)])\n",
    "    # print(m)\n",
    "    echelon = m.echelon_form()\n",
    "    # print(echelon)\n",
    "    if echelon.rank() == n:\n",
    "        raise ValueError(\"Failed to decode: Possibly too many errors\")\n",
    "    \n",
    "    result_vector = field(-1)*echelon.column(echelon.rank())\n",
    "    a_poly = R(list(result_vector[0:dim+correctable]))\n",
    "    b_poly = result_vector[dim+correctable:]\n",
    "    b_poly[echelon.rank() - dim - correctable] = field(1)\n",
    "    b_poly = R(list(b_poly))\n",
    "    # print(a_poly)\n",
    "    # print(b_poly)\n",
    "    if a_poly % b_poly == 0:\n",
    "        decoded = a_poly // b_poly\n",
    "        # print(factor(b_poly))\n",
    "        return decoded\n",
    "    else:\n",
    "        raise ValueError(\"failed to decode!\")\n"
   ]
  },
  {
   "cell_type": "code",
   "execution_count": null,
   "metadata": {
    "vscode": {
     "languageId": "python"
    }
   },
   "outputs": [],
   "source": [
    "fx = R.random_element(k-1); print(fx)\n",
    "code = E.encode(fx)\n",
    "error_rate = 1 - sqrt(rate)\n",
    "error_count = floor(error_rate*omega_order) - 1\n",
    "D = GRSGuruswamiSudanDecoder(RS, tau=error_count)\n",
    "\n",
    "corrupted_code = deepcopy(code)\n",
    "\n",
    "for i in range(omega_order):\n",
    "    if error_count > 0:\n",
    "        if random() < error_rate:\n",
    "            corrupted_code[i] = Fq.random_element()\n",
    "            error_count = error_count - 1\n",
    "    else:\n",
    "        break\n",
    "\n",
    "print(D.decode_to_message(corrupted_code))\n"
   ]
  },
  {
   "cell_type": "code",
   "execution_count": null,
   "metadata": {
    "vscode": {
     "languageId": "python"
    }
   },
   "outputs": [],
   "source": []
  }
 ],
 "metadata": {
  "kernelspec": {
   "display_name": "SageMath 10.5",
   "language": "sage",
   "name": "SageMath-10.5"
  },
  "language_info": {
   "codemirror_mode": {
    "name": "ipython",
    "version": 3
   },
   "file_extension": ".py",
   "mimetype": "text/x-python",
   "name": "sage",
   "nbconvert_exporter": "python",
   "pygments_lexer": "ipython3",
   "version": "3.12.5"
  }
 },
 "nbformat": 4,
 "nbformat_minor": 4
}
