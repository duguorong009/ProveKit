{
 "cells": [
  {
   "cell_type": "code",
   "execution_count": 1,
   "id": "472a4317-c69c-4d84-a472-d79cefd7fff8",
   "metadata": {},
   "outputs": [],
   "source": [
    "def weight(n):\n",
    "    if n.parent().is_prime_field():\n",
    "        p = n.parent().order()\n",
    "        val = int(n)\n",
    "\n",
    "        # Consider both positive and negative\n",
    "        pos = val\n",
    "        neg = abs(val - p)\n",
    "\n",
    "        def hamming(n):\n",
    "            return bin(abs(n)).count('1')\n",
    "\n",
    "        return min(hamming(pos), hamming(neg))\n",
    "    else:\n",
    "        return sum(weight(c) for c in n.list())"
   ]
  },
  {
   "cell_type": "code",
   "execution_count": 2,
   "id": "18933b7e-3b39-4997-9dd5-12b10ace7e69",
   "metadata": {},
   "outputs": [],
   "source": [
    "def balanced_hex(n):\n",
    "    if n.parent().is_prime_field():\n",
    "        p = n.parent().order()\n",
    "        val = int(n)\n",
    "\n",
    "        # Consider both positive and negative\n",
    "        pos = val\n",
    "        neg = abs(val - p)\n",
    "\n",
    "        def hamming(n):\n",
    "            return bin(abs(n)).count('1')\n",
    "\n",
    "        if hamming(pos) <= hamming(neg):\n",
    "            return f\" 0x{pos:08x}\"\n",
    "        else:\n",
    "            return f\"-0x{neg:08x}\"\n",
    "    else:\n",
    "        return ' '.join([balanced_hex(c) for c in n.list()])\n"
   ]
  },
  {
   "cell_type": "code",
   "execution_count": 3,
   "id": "9e8dd00c-ae35-40de-8262-521e50dc5fbd",
   "metadata": {},
   "outputs": [],
   "source": [
    "p = 2^31 - 1\n",
    "F = GF(p)\n",
    "assert F.is_field()\n",
    "\n",
    "R.<X> = F[]\n",
    "F2.<i> = F.extension(X^2 + 1)\n",
    "assert F2.is_field()\n",
    "\n",
    "R.<X> = F2[]\n",
    "F6.<j> = F2.extension(X^3 - 5)\n",
    "assert F6.is_field()\n"
   ]
  },
  {
   "cell_type": "code",
   "execution_count": 4,
   "id": "a5fbc695-6fd5-4f08-800c-d35f4e25643b",
   "metadata": {},
   "outputs": [
    {
     "name": "stdout",
     "output_type": "stream",
     "text": [
      "2 * 3^2 * 7 * 11 * 31 * 151 * 331\n",
      "2^32 * 3^2 * 7 * 11 * 31 * 151 * 331\n",
      "2^32 * 3^3 * 7 * 11 * 13 * 31 * 43^2 * 79 * 151 * 331 * 1381 * 529510939 * 1758566101 * 2903110321\n"
     ]
    }
   ],
   "source": [
    "# Multiplicative orders:\n",
    "print(factor(F.order()-1))\n",
    "print(factor(F2.order()-1))\n",
    "print(factor(F6.order()-1))"
   ]
  },
  {
   "cell_type": "code",
   "execution_count": 8,
   "id": "29bf4b9e-984b-453f-949b-0dba3d4ba29a",
   "metadata": {},
   "outputs": [],
   "source": [
    "F2_generator = F2.multiplicative_generator()\n",
    "F2_order = F2_generator.multiplicative_order()\n",
    "\n",
    "def F2_omega(n):\n",
    "    assert F2_order % n == 0\n",
    "    return F2_generator^(F2_order / n)"
   ]
  },
  {
   "cell_type": "code",
   "execution_count": 11,
   "id": "590c6881-7a5f-494a-a04d-fc85bae3adf1",
   "metadata": {},
   "outputs": [
    {
     "data": {
      "text/plain": [
       "1117296306*i + 1166849849"
      ]
     },
     "execution_count": 11,
     "metadata": {},
     "output_type": "execute_result"
    }
   ],
   "source": [
    "F2_omega(2^32)"
   ]
  },
  {
   "cell_type": "code",
   "execution_count": 20,
   "id": "4a44661c-97aa-4033-a35e-6ea61b0035b7",
   "metadata": {},
   "outputs": [
    {
     "name": "stdout",
     "output_type": "stream",
     "text": [
      "-0x3a7348c6  0x429896b2 28\n",
      "-0x546ea819 -0x22bd0402 24\n",
      "-0x40a78b85  0x60348b00 22\n",
      " 0x54508594  0x104800eb 20\n",
      " 0x1225542e  0x00203624 19\n",
      " 0x02862052 -0x08406151 16\n",
      "-0x46222494  0x48400808 15\n",
      " 0x1c001880 -0x00206d24 14\n",
      " 0x080840a1 -0x00038303 13\n",
      "-0x20548084 -0x04140c00 12\n",
      " 0x00164250 -0x22140000 11\n"
     ]
    }
   ],
   "source": [
    "best = 100\n",
    "root = F2_omega(2^32)\n",
    "root2 = root * root\n",
    "power = root\n",
    "for i in range(2^22):\n",
    "    if weight(power) < best:\n",
    "        best = weight(power)\n",
    "        print(balanced_hex(power), best)\n",
    "    power *= root2"
   ]
  },
  {
   "cell_type": "code",
   "execution_count": 21,
   "id": "2d7685e2-173a-4601-8fbe-e9f08391ff78",
   "metadata": {},
   "outputs": [
    {
     "name": "stdout",
     "output_type": "stream",
     "text": [
      " 0x00000001  0x00000000\n",
      " 0x00008000 -0x00008000\n",
      " 0x00000000 -0x00000001\n",
      "-0x00008000 -0x00008000\n",
      "-0x00000001  0x00000000\n",
      "-0x00008000  0x00008000\n",
      " 0x00000000  0x00000001\n",
      " 0x00008000  0x00008000\n"
     ]
    }
   ],
   "source": [
    "# Up to omage_8 there is nice structure requiring only bitshifts and signs\n",
    "def _():\n",
    "    N = 8\n",
    "    omega = F2_omega(N)\n",
    "    for n in range(0, N):\n",
    "        val = omega^n\n",
    "        print(balanced_hex(val))\n",
    "_()"
   ]
  },
  {
   "cell_type": "code",
   "execution_count": 22,
   "id": "90a8d191-72c0-4bbc-978d-a9e9f3db13b6",
   "metadata": {},
   "outputs": [
    {
     "data": {
      "text/plain": [
       "32768"
      ]
     },
     "execution_count": 22,
     "metadata": {},
     "output_type": "execute_result"
    }
   ],
   "source": [
    "0x00008000"
   ]
  },
  {
   "cell_type": "code",
   "execution_count": 23,
   "id": "247abaf3-0861-4809-8cfd-05a4001b1113",
   "metadata": {},
   "outputs": [
    {
     "data": {
      "text/plain": [
       "32768"
      ]
     },
     "execution_count": 23,
     "metadata": {},
     "output_type": "execute_result"
    }
   ],
   "source": [
    "2^15"
   ]
  },
  {
   "cell_type": "code",
   "execution_count": 16,
   "id": "30e4fc20-b83e-440f-9f7b-1512e86a9381",
   "metadata": {},
   "outputs": [
    {
     "data": {
      "text/plain": [
       "' 0x1e6299e2 -0x5049d5cc'"
      ]
     },
     "execution_count": 16,
     "metadata": {},
     "output_type": "execute_result"
    }
   ],
   "source": [
    "balanced_hex(F2_omega(2^32)^4)"
   ]
  },
  {
   "cell_type": "code",
   "execution_count": 175,
   "id": "ae0df1c8-a075-4b1f-9935-baefee3662d5",
   "metadata": {},
   "outputs": [],
   "source": [
    "basis = [1, i, j, i * j, j^2, i * j^2]"
   ]
  },
  {
   "cell_type": "code",
   "execution_count": 176,
   "id": "be756bac-579e-44ab-b0e2-36e16d386fc1",
   "metadata": {},
   "outputs": [],
   "source": [
    "def to_coeff(n):\n",
    "    if n.parent() == F:\n",
    "        return [n]\n",
    "    if n.parent() == F2:\n",
    "        return n.list()\n",
    "    if n.parent() == F6:\n",
    "        return sum([to_coeff(m) for m in n.list()], [])\n",
    "    assert False    "
   ]
  },
  {
   "cell_type": "code",
   "execution_count": 177,
   "id": "4c00a82d-1646-4251-93fd-72796be6bedc",
   "metadata": {},
   "outputs": [],
   "source": [
    "def from_coeff(c):\n",
    "    return sum([c * b for (c, b) in zip(c, basis)])"
   ]
  },
  {
   "cell_type": "code",
   "execution_count": 182,
   "id": "0845b787-adf2-4253-ae7f-299149561245",
   "metadata": {},
   "outputs": [],
   "source": [
    "for _ in range(1000):\n",
    "    n = F6.random_element()\n",
    "    assert n == from_coeff(to_coeff(n))"
   ]
  },
  {
   "cell_type": "code",
   "execution_count": 183,
   "id": "d92019c0-6190-42c0-bae5-4ed0bf6398a2",
   "metadata": {},
   "outputs": [],
   "source": [
    "def embed(n):\n",
    "    if n.parent() == F:\n",
    "        return n\n",
    "    if n.parent() == F2:\n",
    "        return n.conjugate()\n",
    "    if n.parent() == F6:\n",
    "        c = [embed(c) for c in n.list()]\n",
    "        return c[0] + (c[2] * j + c[1] * j^2) / 5\n",
    "    assert False"
   ]
  },
  {
   "cell_type": "code",
   "execution_count": 184,
   "id": "457f207a-d3bd-482e-aeff-bec4d00f1d0e",
   "metadata": {},
   "outputs": [],
   "source": [
    "for _ in range(1000):\n",
    "    va = [F.random_element() for _ in range(6)]\n",
    "    vb = [F.random_element() for _ in range(6)]\n",
    "    vc = sum([a * b for (a,b) in zip(va, vb)])\n",
    "\n",
    "    a = from_coeff(va)\n",
    "    b = embed(from_coeff(vb))\n",
    "    c = a * b\n",
    "\n",
    "    assert to_coeff(c)[0] == vc"
   ]
  },
  {
   "cell_type": "code",
   "execution_count": 191,
   "id": "7d2013e5-fa49-4498-acc7-1377316b5d56",
   "metadata": {},
   "outputs": [
    {
     "ename": "AttributeError",
     "evalue": "'PolynomialQuotientRing_field_with_category' object has no attribute 'field'",
     "output_type": "error",
     "traceback": [
      "\u001b[31m---------------------------------------------------------------------------\u001b[39m",
      "\u001b[31mKeyError\u001b[39m                                  Traceback (most recent call last)",
      "\u001b[36mFile \u001b[39m\u001b[32m/private/var/tmp/sage-10.6-current/local/var/lib/sage/venv-python3.12.5/lib/python3.12/site-packages/sage/structure/category_object.pyx:857\u001b[39m, in \u001b[36msage.structure.category_object.CategoryObject.getattr_from_category (build/cythonized/sage/structure/category_object.c:10072)\u001b[39m\u001b[34m()\u001b[39m\n\u001b[32m    856\u001b[39m try:\n\u001b[32m--> \u001b[39m\u001b[32m857\u001b[39m     return self._cached_methods[name]\n\u001b[32m    858\u001b[39m except KeyError:\n",
      "\u001b[31mKeyError\u001b[39m: 'field'",
      "\nDuring handling of the above exception, another exception occurred:\n",
      "\u001b[31mAttributeError\u001b[39m                            Traceback (most recent call last)",
      "\u001b[36mCell\u001b[39m\u001b[36m \u001b[39m\u001b[32mIn[191]\u001b[39m\u001b[32m, line 1\u001b[39m\n\u001b[32m----> \u001b[39m\u001b[32m1\u001b[39m \u001b[43mF6\u001b[49m\u001b[43m.\u001b[49m\u001b[43mfield\u001b[49m()\n",
      "\u001b[36mFile \u001b[39m\u001b[32m/private/var/tmp/sage-10.6-current/local/var/lib/sage/venv-python3.12.5/lib/python3.12/site-packages/sage/structure/category_object.pyx:851\u001b[39m, in \u001b[36msage.structure.category_object.CategoryObject.__getattr__ (build/cythonized/sage/structure/category_object.c:9992)\u001b[39m\u001b[34m()\u001b[39m\n\u001b[32m    849\u001b[39m         AttributeError: 'PrimeNumbers_with_category' object has no attribute 'sadfasdf'...\n\u001b[32m    850\u001b[39m     \"\"\"\n\u001b[32m--> \u001b[39m\u001b[32m851\u001b[39m     return self.getattr_from_category(name)\n\u001b[32m    852\u001b[39m \n\u001b[32m    853\u001b[39m cdef getattr_from_category(self, name):\n",
      "\u001b[36mFile \u001b[39m\u001b[32m/private/var/tmp/sage-10.6-current/local/var/lib/sage/venv-python3.12.5/lib/python3.12/site-packages/sage/structure/category_object.pyx:866\u001b[39m, in \u001b[36msage.structure.category_object.CategoryObject.getattr_from_category (build/cythonized/sage/structure/category_object.c:10156)\u001b[39m\u001b[34m()\u001b[39m\n\u001b[32m    864\u001b[39m     cls = self._category.parent_class\n\u001b[32m    865\u001b[39m \n\u001b[32m--> \u001b[39m\u001b[32m866\u001b[39m attr = getattr_from_other_class(self, cls, name)\n\u001b[32m    867\u001b[39m self._cached_methods[name] = attr\n\u001b[32m    868\u001b[39m return attr\n",
      "\u001b[36mFile \u001b[39m\u001b[32m/private/var/tmp/sage-10.6-current/local/var/lib/sage/venv-python3.12.5/lib/python3.12/site-packages/sage/cpython/getattr.pyx:358\u001b[39m, in \u001b[36msage.cpython.getattr.getattr_from_other_class (build/cythonized/sage/cpython/getattr.c:4391)\u001b[39m\u001b[34m()\u001b[39m\n\u001b[32m    356\u001b[39m     dummy_error_message.cls = type(self)\n\u001b[32m    357\u001b[39m     dummy_error_message.name = name\n\u001b[32m--> \u001b[39m\u001b[32m358\u001b[39m     raise AttributeError(dummy_error_message)\n\u001b[32m    359\u001b[39m cdef PyObject* attr = instance_getattr(cls, name)\n\u001b[32m    360\u001b[39m if attr is NULL:\n",
      "\u001b[31mAttributeError\u001b[39m: 'PolynomialQuotientRing_field_with_category' object has no attribute 'field'"
     ]
    }
   ],
   "source": [
    "F6.field()"
   ]
  },
  {
   "cell_type": "code",
   "execution_count": 186,
   "id": "22f69d4a-c41e-4bce-907f-e2b5e2557aff",
   "metadata": {},
   "outputs": [
    {
     "data": {
      "text/plain": [
       "i + 12"
      ]
     },
     "execution_count": 186,
     "metadata": {},
     "output_type": "execute_result"
    }
   ],
   "source": [
    "F2.multiplicative_generator()"
   ]
  },
  {
   "cell_type": "code",
   "execution_count": 35,
   "id": "a37d3ffa-079a-4e48-9c5e-23f83759ec9b",
   "metadata": {},
   "outputs": [
    {
     "data": {
      "text/plain": [
       "4611686014132420608"
      ]
     },
     "execution_count": 35,
     "metadata": {},
     "output_type": "execute_result"
    }
   ],
   "source": [
    "F2(i + 12).multiplicative_order()"
   ]
  },
  {
   "cell_type": "code",
   "execution_count": 36,
   "id": "311cd3e7-7ab6-4fb8-bbef-36232eb76d36",
   "metadata": {},
   "outputs": [
    {
     "data": {
      "text/plain": [
       "2^32 * 3^2 * 7 * 11 * 31 * 151 * 331"
      ]
     },
     "execution_count": 36,
     "metadata": {},
     "output_type": "execute_result"
    }
   ],
   "source": [
    "factor(F2(i + 12).multiplicative_order())"
   ]
  },
  {
   "cell_type": "code",
   "execution_count": 37,
   "id": "c517ca8c-3b9b-4044-8e89-ffbd4cc5ab1c",
   "metadata": {},
   "outputs": [
    {
     "name": "stdout",
     "output_type": "stream",
     "text": [
      "i + 12\n",
      "4611686014132420608  =  2^32 * 3^2 * 7 * 11 * 31 * 151 * 331\n"
     ]
    }
   ],
   "source": [
    "F2g = F2.multiplicative_generator()\n",
    "F2order = F2g.multiplicative_order()\n",
    "print(F2g)\n",
    "print(F2order ,' = ', factor(F2order))"
   ]
  },
  {
   "cell_type": "code",
   "execution_count": 38,
   "id": "d1e9ffff-1593-4c5b-ac74-3547f4de6857",
   "metadata": {},
   "outputs": [],
   "source": []
  },
  {
   "cell_type": "code",
   "execution_count": 39,
   "id": "a3ccb69b-b265-4901-96fa-5f61fa45fe1f",
   "metadata": {},
   "outputs": [
    {
     "data": {
      "text/plain": [
       "1117296306*i + 1166849849"
      ]
     },
     "execution_count": 39,
     "metadata": {},
     "output_type": "execute_result"
    }
   ],
   "source": [
    "F2_omega(2^32)"
   ]
  },
  {
   "cell_type": "code",
   "execution_count": 40,
   "id": "5a6905c2-c48b-43d0-9eaa-449cdd44a950",
   "metadata": {},
   "outputs": [
    {
     "name": "stdout",
     "output_type": "stream",
     "text": [
      " 0x00000001  0x00000000\n",
      " 0x00008000 -0x00008000\n",
      " 0x00000000 -0x00000001\n",
      "-0x00008000 -0x00008000\n",
      "-0x00000001  0x00000000\n",
      "-0x00008000  0x00008000\n",
      " 0x00000000  0x00000001\n",
      " 0x00008000  0x00008000\n"
     ]
    }
   ],
   "source": [
    "# Up to omage_8 there is nice structure requiring only bitshifts and signs\n",
    "def _():\n",
    "    N = 8\n",
    "    omega = F2_omega(N)\n",
    "    for n in range(0, N):\n",
    "        val = omega^n\n",
    "        print(balanced_hex(val))\n",
    "_()"
   ]
  },
  {
   "cell_type": "code",
   "execution_count": 41,
   "id": "93622b42-bd37-4330-956e-01f66e485f7f",
   "metadata": {},
   "outputs": [
    {
     "data": {
      "text/plain": [
       "'-0x00000001  0x00000000'"
      ]
     },
     "execution_count": 41,
     "metadata": {},
     "output_type": "execute_result"
    }
   ],
   "source": [
    "balanced_hex(F2(2147483646))"
   ]
  },
  {
   "cell_type": "code",
   "execution_count": 42,
   "id": "0a396eb5-0242-491d-9180-51ef76381c7b",
   "metadata": {},
   "outputs": [],
   "source": [
    "R2.<y> = F2[]"
   ]
  },
  {
   "cell_type": "code",
   "execution_count": 45,
   "id": "32f1c928-2161-461f-8694-a5ed168d2369",
   "metadata": {},
   "outputs": [],
   "source": [
    "P2 = y^3 - i - 2"
   ]
  },
  {
   "cell_type": "code",
   "execution_count": 46,
   "id": "ab0d2992-ef28-4dad-86ab-11f7bf57ab3e",
   "metadata": {},
   "outputs": [
    {
     "data": {
      "text/plain": [
       "True"
      ]
     },
     "execution_count": 46,
     "metadata": {},
     "output_type": "execute_result"
    }
   ],
   "source": [
    "P2.is_irreducible()"
   ]
  },
  {
   "cell_type": "code",
   "execution_count": 47,
   "id": "f907a364-821a-4add-8a1e-1ad1431af723",
   "metadata": {},
   "outputs": [
    {
     "data": {
      "text/plain": [
       "1288490188*i + 1717986918"
      ]
     },
     "execution_count": 47,
     "metadata": {},
     "output_type": "execute_result"
    }
   ],
   "source": [
    "(i + 2)^(-1)"
   ]
  },
  {
   "cell_type": "code",
   "execution_count": null,
   "id": "9f09ba6c-c102-4fdf-be12-1081608bb3c7",
   "metadata": {},
   "outputs": [],
   "source": []
  },
  {
   "cell_type": "code",
   "execution_count": 253,
   "id": "67628c16-ce4a-4001-9203-ea1b63b7f014",
   "metadata": {},
   "outputs": [],
   "source": [
    "F6.<j> = F2.extension(P2)"
   ]
  },
  {
   "cell_type": "code",
   "execution_count": 254,
   "id": "7330440b-b745-41f9-82e7-078d77751d46",
   "metadata": {},
   "outputs": [
    {
     "data": {
      "text/plain": [
       "Univariate Quotient Polynomial Ring in j over Finite Field in i of size 2147483647^2 with modulus j^3 + 2147483642"
      ]
     },
     "execution_count": 254,
     "metadata": {},
     "output_type": "execute_result"
    }
   ],
   "source": [
    "F6"
   ]
  },
  {
   "cell_type": "code",
   "execution_count": 255,
   "id": "cfc19579-0c5d-44f8-b8ff-acc4d4b10392",
   "metadata": {},
   "outputs": [
    {
     "data": {
      "text/plain": [
       "5"
      ]
     },
     "execution_count": 255,
     "metadata": {},
     "output_type": "execute_result"
    }
   ],
   "source": [
    "j^3"
   ]
  },
  {
   "cell_type": "code",
   "execution_count": 221,
   "id": "be71d748-1cf4-4347-934b-afaf77f515d6",
   "metadata": {},
   "outputs": [
    {
     "name": "stdout",
     "output_type": "stream",
     "text": [
      "1\n",
      "1513477735*j\n",
      "634005911*j^2\n",
      "5\n",
      "1124937734*j\n",
      "1022545908*j^2\n",
      "25\n"
     ]
    }
   ],
   "source": [
    "frob = F6.frobenius_endomorphism()\n",
    "for e in range(7):\n",
    "    print(frob(j^e))"
   ]
  },
  {
   "cell_type": "code",
   "execution_count": 222,
   "id": "1fe06a88-4b70-4a6a-9aad-f536085e3a1e",
   "metadata": {},
   "outputs": [
    {
     "data": {
      "text/plain": [
       "1513477735"
      ]
     },
     "execution_count": 222,
     "metadata": {},
     "output_type": "execute_result"
    }
   ],
   "source": [
    "F6(1513477735)"
   ]
  },
  {
   "cell_type": "code",
   "execution_count": 95,
   "id": "7bd0d4c4-6575-46d3-8686-768fb6f3799f",
   "metadata": {},
   "outputs": [],
   "source": [
    "# Low hamming weight values\n",
    "simple_values = [F(0), F(1), F(-1), F(5), F(-5), F(3), F(-3)] + [F(2^n) for n in range(1, 31)] + [F(-2^n) for n in range(1, 32)]"
   ]
  },
  {
   "cell_type": "code",
   "execution_count": 96,
   "id": "6ac449be-2ab6-48cb-b08f-593dae9da3cb",
   "metadata": {},
   "outputs": [
    {
     "data": {
      "text/plain": [
       "[0, 1, 2147483646, 5, 2147483642, 3, 2147483644, 2, 4, 8]"
      ]
     },
     "execution_count": 96,
     "metadata": {},
     "output_type": "execute_result"
    }
   ],
   "source": [
    "simple_values = simple_values[:10]\n",
    "simple_values"
   ]
  },
  {
   "cell_type": "code",
   "execution_count": 97,
   "id": "c869d4c0-3218-44cd-a583-acb7aacc44cf",
   "metadata": {},
   "outputs": [
    {
     "name": "stdout",
     "output_type": "stream",
     "text": [
      "3  =>  y^3 + 8*i*y^2 + i\n",
      "3  =>  y^3 + 8*y^2 + i\n",
      "3  =>  y^3 + 8*i*y + i\n",
      "3  =>  y^3 + 8*y + i\n",
      "3  =>  y^3 + 8*y^2 + 2147483646*i\n",
      "3  =>  y^3 + 8*i*y + 2147483646*i\n",
      "3  =>  y^3 + 8*y + 2147483646*i\n",
      "3  =>  y^3 + 5*i\n",
      "3  =>  y^3 + 2147483642*i\n",
      "3  =>  y^3 + 2*i*y^2 + 2*i\n",
      "3  =>  y^3 + 4*i*y^2 + 2*i\n",
      "3  =>  y^3 + 8*y^2 + 2*i\n",
      "3  =>  y^3 + i*y + 2*i\n",
      "3  =>  y^3 + 2147483646*i*y + 2*i\n",
      "3  =>  y^3 + 8*i*y + 2*i\n",
      "3  =>  y^3 + 4*y + 2*i\n",
      "3  =>  y^3 + 4*i*y^2 + 4*i\n",
      "3  =>  y^3 + y^2 + 4*i\n",
      "3  =>  y^3 + 2147483646*y^2 + 4*i\n",
      "3  =>  y^3 + 8*y^2 + 4*i\n",
      "3  =>  y^3 + i*y + 4*i\n",
      "3  =>  y^3 + 2147483646*i*y + 4*i\n",
      "3  =>  y^3 + 2147483646*y + 4*i\n",
      "3  =>  y^3 + 4*y + 4*i\n",
      "3  =>  y^3 + 8*y + 4*i\n",
      "3  =>  y^3 + i*y + 8*i\n",
      "3  =>  y^3 + 2147483646*i*y + 8*i\n",
      "3  =>  y^3 + 8*i*y^2 + 1\n",
      "3  =>  y^3 + 8*i*y + 1\n",
      "3  =>  y^3 + 2*i + 1\n",
      "3  =>  y^3 + 4*i + 1\n",
      "3  =>  y^3 + 8*i*y^2 + 2147483646\n",
      "3  =>  y^3 + 8*y^2 + 2147483646\n",
      "3  =>  y^3 + 8*i*y + 2147483646\n",
      "3  =>  y^3 + 2*i + 2147483646\n",
      "3  =>  y^3 + 4*i + 2147483646\n",
      "3  =>  y^3 + 5\n"
     ]
    },
    {
     "ename": "KeyboardInterrupt",
     "evalue": "",
     "output_type": "error",
     "traceback": [
      "\u001b[31m---------------------------------------------------------------------------\u001b[39m",
      "\u001b[31mKeyboardInterrupt\u001b[39m                         Traceback (most recent call last)",
      "\u001b[36mCell\u001b[39m\u001b[36m \u001b[39m\u001b[32mIn[97]\u001b[39m\u001b[32m, line 12\u001b[39m\n\u001b[32m     10\u001b[39m C = e + f * i\n\u001b[32m     11\u001b[39m P2 = A + B * y + C * y**Integer(\u001b[32m2\u001b[39m) + y**Integer(\u001b[32m3\u001b[39m)\n\u001b[32m---> \u001b[39m\u001b[32m12\u001b[39m \u001b[38;5;28;01mif\u001b[39;00m \u001b[38;5;129;01mnot\u001b[39;00m \u001b[43mP2\u001b[49m\u001b[43m.\u001b[49m\u001b[43mis_irreducible\u001b[49m\u001b[43m(\u001b[49m\u001b[43m)\u001b[49m:\n\u001b[32m     13\u001b[39m     \u001b[38;5;28;01mcontinue\u001b[39;00m\n\u001b[32m     14\u001b[39m w = weight(P2)\n",
      "\u001b[36mFile \u001b[39m\u001b[32m/private/var/tmp/sage-10.6-current/local/var/lib/sage/venv-python3.12.5/lib/python3.12/site-packages/sage/rings/polynomial/polynomial_zz_pex.pyx:355\u001b[39m, in \u001b[36msage.rings.polynomial.polynomial_zz_pex.Polynomial_ZZ_pEX.is_irreducible (build/cythonized/sage/rings/polynomial/polynomial_zz_pex.cpp:22510)\u001b[39m\u001b[34m()\u001b[39m\n\u001b[32m    353\u001b[39m self._parent._modulus.restore()\n\u001b[32m    354\u001b[39m if algorithm==\"fast_when_false\":\n\u001b[32m--> \u001b[39m\u001b[32m355\u001b[39m     sig_on()\n\u001b[32m    356\u001b[39m     res = ZZ_pEX_IterIrredTest(self.x)\n\u001b[32m    357\u001b[39m     sig_off()\n",
      "\u001b[31mKeyboardInterrupt\u001b[39m: "
     ]
    }
   ],
   "source": [
    "best = 3\n",
    "for a in simple_values:\n",
    "    for b in simple_values:\n",
    "        for c in simple_values:\n",
    "            for d in simple_values:\n",
    "                for e in simple_values:\n",
    "                    for f in simple_values:\n",
    "                        A = a + b * i\n",
    "                        B = c + d * i\n",
    "                        C = e + f * i\n",
    "                        P2 = A + B * y + C * y^2 + y^3\n",
    "                        if not P2.is_irreducible():\n",
    "                            continue\n",
    "                        w = weight(P2)\n",
    "                        if w <= best:\n",
    "                            best = w\n",
    "                            print(w, ' => ', P2)"
   ]
  },
  {
   "cell_type": "code",
   "execution_count": 135,
   "id": "8187d9fe-2ce6-4d5e-9400-78970235f36e",
   "metadata": {},
   "outputs": [
    {
     "ename": "NameError",
     "evalue": "name 'y' is not defined",
     "output_type": "error",
     "traceback": [
      "\u001b[31m---------------------------------------------------------------------------\u001b[39m",
      "\u001b[31mNameError\u001b[39m                                 Traceback (most recent call last)",
      "\u001b[36mCell\u001b[39m\u001b[36m \u001b[39m\u001b[32mIn[135]\u001b[39m\u001b[32m, line 1\u001b[39m\n\u001b[32m----> \u001b[39m\u001b[32m1\u001b[39m P2 = \u001b[43my\u001b[49m**Integer(\u001b[32m3\u001b[39m) - Integer(\u001b[32m5\u001b[39m)\n",
      "\u001b[31mNameError\u001b[39m: name 'y' is not defined"
     ]
    }
   ],
   "source": [
    "P2 = y^3 - 5"
   ]
  },
  {
   "cell_type": "code",
   "execution_count": 264,
   "id": "48173611-3a72-42fb-8387-141ffbbeaaa2",
   "metadata": {},
   "outputs": [
    {
     "data": {
      "text/plain": [
       "True"
      ]
     },
     "execution_count": 264,
     "metadata": {},
     "output_type": "execute_result"
    }
   ],
   "source": [
    "P2.is_irreducible()"
   ]
  },
  {
   "cell_type": "code",
   "execution_count": 265,
   "id": "2d949599-e86f-4a68-adbc-66a44b988d23",
   "metadata": {},
   "outputs": [],
   "source": [
    "F6.<j> = F2.extension(P2)"
   ]
  },
  {
   "cell_type": "code",
   "execution_count": 266,
   "id": "9e6f0ee8-a0f3-4442-a998-a03bff6bde3c",
   "metadata": {},
   "outputs": [
    {
     "data": {
      "text/plain": [
       "Univariate Quotient Polynomial Ring in j over Finite Field in i of size 2147483647^2 with modulus j^3 + 2147483642"
      ]
     },
     "execution_count": 266,
     "metadata": {},
     "output_type": "execute_result"
    }
   ],
   "source": [
    "F6"
   ]
  },
  {
   "cell_type": "code",
   "execution_count": 259,
   "id": "573ae249-5362-4067-83dc-16dbda9a4f89",
   "metadata": {},
   "outputs": [
    {
     "data": {
      "text/plain": [
       "True"
      ]
     },
     "execution_count": 259,
     "metadata": {},
     "output_type": "execute_result"
    }
   ],
   "source": [
    "F6.is_field()"
   ]
  },
  {
   "cell_type": "code",
   "execution_count": 260,
   "id": "34c8b934-d436-4a91-a3ed-887f9de47569",
   "metadata": {},
   "outputs": [
    {
     "data": {
      "text/plain": [
       "3-dimensional vector space M over the Finite Field in i of size 2147483647^2"
      ]
     },
     "execution_count": 260,
     "metadata": {},
     "output_type": "execute_result"
    }
   ],
   "source": [
    "M = FiniteRankFreeModule(F2, 3, name='M') ; M"
   ]
  },
  {
   "cell_type": "code",
   "execution_count": 261,
   "id": "2ad50e78-f169-41a4-8808-fe5437b87e7f",
   "metadata": {},
   "outputs": [
    {
     "data": {
      "text/plain": [
       "Basis (e_0,e_1,e_2) on the 3-dimensional vector space M over the Finite Field in i of size 2147483647^2"
      ]
     },
     "execution_count": 261,
     "metadata": {},
     "output_type": "execute_result"
    }
   ],
   "source": [
    "e = M.basis('e') ; e"
   ]
  },
  {
   "cell_type": "code",
   "execution_count": 262,
   "id": "ebde58bd-fab6-4611-8760-cd644aa259d3",
   "metadata": {},
   "outputs": [
    {
     "data": {
      "text/plain": [
       "Type-(3,0) tensor t on the 3-dimensional vector space M over the Finite Field in i of size 2147483647^2"
      ]
     },
     "execution_count": 262,
     "metadata": {},
     "output_type": "execute_result"
    }
   ],
   "source": [
    "t = M.tensor((3,0), name='t') ; t"
   ]
  },
  {
   "cell_type": "code",
   "execution_count": 272,
   "id": "b1b56d0c-78b8-4913-95b3-d622cfee8ea6",
   "metadata": {},
   "outputs": [],
   "source": [
    "t[0,0,0] = -3"
   ]
  },
  {
   "cell_type": "code",
   "execution_count": 273,
   "id": "e6fb5945-672a-4172-8e90-7e2e76338eac",
   "metadata": {},
   "outputs": [],
   "source": [
    "variables = []\n",
    "for a in range(3):\n",
    "    variables += [f'C_{a}0']\n",
    "    for b in range(3):\n",
    "        p = j^a * j^b\n",
    "        variables += [f'A_{a}{b}', f'B_{a}{b}']\n",
    "        for c in range(3):\n",
    "            t[a,b,c] = p.list()[c]"
   ]
  },
  {
   "cell_type": "code",
   "execution_count": 274,
   "id": "18ad75d5-e624-4d8f-b703-6b0ddb490cea",
   "metadata": {},
   "outputs": [
    {
     "data": {
      "text/plain": [
       "Multivariate Polynomial Ring in C_00, A_00, B_00, A_01, B_01, A_02, B_02, C_10, A_10, B_10, A_11, B_11, A_12, B_12, C_20, A_20, B_20, A_21, B_21, A_22, B_22 over Finite Field in i of size 2147483647^2"
      ]
     },
     "execution_count": 274,
     "metadata": {},
     "output_type": "execute_result"
    }
   ],
   "source": [
    "R = PolynomialRing(F2, variables)\n",
    "variables = R.gens_dict()\n",
    "R"
   ]
  },
  {
   "cell_type": "code",
   "execution_count": null,
   "id": "0ee1d6f1-4b7b-4f03-9048-70db42c4205b",
   "metadata": {},
   "outputs": [],
   "source": []
  },
  {
   "cell_type": "code",
   "execution_count": 329,
   "id": "35803074-5207-4e42-a69e-097f37cc93ee",
   "metadata": {},
   "outputs": [
    {
     "data": {
      "text/plain": [
       "[B_00 - 1, B_01, B_02, 5*B_20, 5*B_21 - 1, 5*B_22, 5*B_10, 5*B_11, 5*B_12 - 1]"
      ]
     },
     "execution_count": 329,
     "metadata": {},
     "output_type": "execute_result"
    }
   ],
   "source": [
    "eqs = []\n",
    "for d in range(3):\n",
    "    for e in range(3):\n",
    "        lhs = 0\n",
    "        for a in range(3):\n",
    "            for b in range(3):\n",
    "                for c in range(3):\n",
    "                    A = 1 if a == d else 0 # variables[f'A_{a}{d}']\n",
    "                    B = variables[f'B_{b}{e}']\n",
    "                    C = 1 if c < 1 else 0 # variables[f'C_{c}0']\n",
    "                    lhs += t[a,b,c] * A * B * C\n",
    "        rhs = 1 if d == e else 0\n",
    "        eqs += [lhs - rhs]\n",
    "eqs"
   ]
  },
  {
   "cell_type": "code",
   "execution_count": 330,
   "id": "2721aa6c-0258-4643-bcb1-8b7b4d3fef69",
   "metadata": {},
   "outputs": [
    {
     "data": {
      "text/plain": [
       "Ideal (B_00 - 1, B_01, B_02, 5*B_20, 5*B_21 - 1, 5*B_22, 5*B_10, 5*B_11, 5*B_12 - 1) of Multivariate Polynomial Ring in C_00, A_00, B_00, A_01, B_01, A_02, B_02, C_10, A_10, B_10, A_11, B_11, A_12, B_12, C_20, A_20, B_20, A_21, B_21, A_22, B_22 over Finite Field in i of size 2147483647^2"
      ]
     },
     "execution_count": 330,
     "metadata": {},
     "output_type": "execute_result"
    }
   ],
   "source": [
    "I = Ideal(eqs)\n",
    "I"
   ]
  },
  {
   "cell_type": "code",
   "execution_count": 331,
   "id": "f3c3c65b-04fc-4bdf-9622-6704e6098af5",
   "metadata": {},
   "outputs": [
    {
     "data": {
      "text/plain": [
       "[B_00 - 1,\n",
       " B_01,\n",
       " B_02,\n",
       " B_10,\n",
       " B_11,\n",
       " B_12 - 858993459,\n",
       " B_20,\n",
       " B_21 - 858993459,\n",
       " B_22]"
      ]
     },
     "execution_count": 331,
     "metadata": {},
     "output_type": "execute_result"
    }
   ],
   "source": [
    "G = I.groebner_basis(); G"
   ]
  },
  {
   "cell_type": "code",
   "execution_count": 333,
   "id": "98f052ae-6962-424e-b610-219f27270e27",
   "metadata": {},
   "outputs": [
    {
     "data": {
      "text/plain": [
       "5"
      ]
     },
     "execution_count": 333,
     "metadata": {},
     "output_type": "execute_result"
    }
   ],
   "source": [
    "1/F2(858993459)"
   ]
  },
  {
   "cell_type": "code",
   "execution_count": 325,
   "id": "72be59d1-6a00-4a5f-8f68-51c473a2b1f0",
   "metadata": {},
   "outputs": [
    {
     "data": {
      "text/plain": [
       "2147483647"
      ]
     },
     "execution_count": 325,
     "metadata": {},
     "output_type": "execute_result"
    }
   ],
   "source": [
    "F2.characteristic()"
   ]
  },
  {
   "cell_type": "code",
   "execution_count": 122,
   "id": "e63376e1-0563-4dc0-bf3b-1353d74df8d5",
   "metadata": {},
   "outputs": [],
   "source": [
    "F6.<x> = GF(p^6)"
   ]
  },
  {
   "cell_type": "code",
   "execution_count": null,
   "id": "c8984821-830e-48ca-bff1-62c6d60bbdbc",
   "metadata": {},
   "outputs": [],
   "source": []
  },
  {
   "cell_type": "code",
   "execution_count": 124,
   "id": "0660b2da-b771-4072-aaa2-898fc4481733",
   "metadata": {},
   "outputs": [
    {
     "data": {
      "text/plain": [
       "739530791*x^5 + 1223070150*x^4 + 540426349*x^3 + 682643827*x^2 + 1962600948*x + 1450618083"
      ]
     },
     "execution_count": 124,
     "metadata": {},
     "output_type": "execute_result"
    }
   ],
   "source": [
    "F6(x^3).frobenius()"
   ]
  },
  {
   "cell_type": "code",
   "execution_count": 134,
   "id": "adbbf53e-959e-4364-964d-7c3eb571f74f",
   "metadata": {},
   "outputs": [
    {
     "data": {
      "text/plain": [
       "x^6 + 5*x^5 + 2147483645*x^4 + 2147483622*x^3 + 2147483638*x^2 + 20*x + 5"
      ]
     },
     "execution_count": 134,
     "metadata": {},
     "output_type": "execute_result"
    }
   ],
   "source": [
    "F6.modulus()"
   ]
  },
  {
   "cell_type": "code",
   "execution_count": 127,
   "id": "f6e644c7-5863-471e-9c9a-00167b82ee61",
   "metadata": {},
   "outputs": [
    {
     "name": "stdout",
     "output_type": "stream",
     "text": [
      " 0x00000001  0x00000000  0x00000000  0x00000000  0x00000000  0x00000000\n",
      "-0x305160a5 -0x48e691ce  0x348e6921 -0x210f421d -0x6c80d902  0x239a4734\n",
      "-0x247348e3  0x036406c4 -0x2036406e  0x312a6256  0x10f421e9 -0x0d901b20\n",
      "-0x2989531c -0x0b05160b  0x28b05173  0x2036406d  0x48e691c6  0x2c145827\n",
      "-0x22c14578 -0x4d239a66  0x1cd2399c -0x1e843cf2 -0x01b20358  0x348e691e\n",
      " 0x087a10da -0x12a62512  0x312a62a5 -0x0e691d10  0x22c14543  0x4a989526\n",
      "-0x0000000e -0x00000180 -0x0000003c  0x0000016a  0x000000cf  0x0000001d\n"
     ]
    }
   ],
   "source": [
    "for e in range(7):\n",
    "    print(balanced_hex(F6(x^e).frobenius()))"
   ]
  },
  {
   "cell_type": "code",
   "execution_count": null,
   "id": "c3b01137-0122-40ba-bfa1-de2dfc85e2dd",
   "metadata": {},
   "outputs": [],
   "source": []
  }
 ],
 "metadata": {
  "kernelspec": {
   "display_name": "SageMath 10.6",
   "language": "sage",
   "name": "sagemath-10.6"
  },
  "language_info": {
   "codemirror_mode": {
    "name": "ipython",
    "version": 3
   },
   "file_extension": ".py",
   "mimetype": "text/x-python",
   "name": "python",
   "nbconvert_exporter": "python",
   "pygments_lexer": "ipython3",
   "version": "3.12.5"
  }
 },
 "nbformat": 4,
 "nbformat_minor": 5
}
